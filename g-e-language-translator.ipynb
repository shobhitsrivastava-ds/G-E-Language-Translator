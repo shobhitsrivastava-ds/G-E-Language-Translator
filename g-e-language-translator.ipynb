{
 "cells": [
  {
   "cell_type": "code",
   "execution_count": 1,
   "metadata": {
    "_cell_guid": "b1076dfc-b9ad-4769-8c92-a6c4dae69d19",
    "_uuid": "8f2839f25d086af736a60e9eeb907d3b93b6e0e5"
   },
   "outputs": [
    {
     "name": "stdout",
     "output_type": "stream",
     "text": [
      "/kaggle/input/language-translatorgerman-to-english/deu.txt\n"
     ]
    }
   ],
   "source": [
    "# This Python 3 environment comes with many helpful analytics libraries installed\n",
    "# It is defined by the kaggle/python docker image: https://github.com/kaggle/docker-python\n",
    "# For example, here's several helpful packages to load in \n",
    "\n",
    "import numpy as np # linear algebra\n",
    "import pandas as pd # data processing, CSV file I/O (e.g. pd.read_csv)\n",
    "\n",
    "# Input data files are available in the \"../input/\" directory.\n",
    "# For example, running this (by clicking run or pressing Shift+Enter) will list all files under the input directory\n",
    "\n",
    "import os\n",
    "for dirname, _, filenames in os.walk('/kaggle/input'):\n",
    "    for filename in filenames:\n",
    "        print(os.path.join(dirname, filename))\n",
    "\n",
    "# Any results you write to the current directory are saved as output."
   ]
  },
  {
   "cell_type": "code",
   "execution_count": 2,
   "metadata": {
    "_cell_guid": "79c7e3d0-c299-4dcb-8224-4455121ee9b0",
    "_uuid": "d629ff2d2480ee46fbb7e2d37f6b5fab8052498a"
   },
   "outputs": [
    {
     "name": "stderr",
     "output_type": "stream",
     "text": [
      "Using TensorFlow backend.\n"
     ]
    },
    {
     "data": {
      "text/plain": [
       "['/job:localhost/replica:0/task:0/device:GPU:0']"
      ]
     },
     "execution_count": 2,
     "metadata": {},
     "output_type": "execute_result"
    }
   ],
   "source": [
    "import string\n",
    "import re\n",
    "from numpy import array, argmax, random, take\n",
    "import pandas as pd\n",
    "import pickle\n",
    "from keras.models import Sequential\n",
    "from keras.layers import Dense, LSTM, Embedding, RepeatVector\n",
    "from keras.preprocessing.text import Tokenizer\n",
    "from keras.callbacks import ModelCheckpoint\n",
    "from keras.preprocessing.sequence import pad_sequences\n",
    "from keras.models import load_model\n",
    "from keras import optimizers\n",
    "import matplotlib.pyplot as plt\n",
    "%matplotlib inline\n",
    "pd.set_option('display.max_colwidth', 200)\n",
    "\n",
    "from keras import backend as K\n",
    "K.tensorflow_backend._get_available_gpus()"
   ]
  },
  {
   "cell_type": "code",
   "execution_count": 3,
   "metadata": {},
   "outputs": [],
   "source": [
    "# function to read raw text file\n",
    "def read_text(filename):\n",
    "    # open the file\n",
    "    file = open(filename, mode='rt', encoding='utf-8')\n",
    "        \n",
    "    # read all text\n",
    "    text = file.read()\n",
    "    file.close()\n",
    "    return text"
   ]
  },
  {
   "cell_type": "code",
   "execution_count": 4,
   "metadata": {},
   "outputs": [],
   "source": [
    "# split a text into sentences\n",
    "def to_lines(text):\n",
    "    sents = text.strip().split('\\n')\n",
    "    sents = [i.split('\\t') for i in sents]\n",
    "    return sents"
   ]
  },
  {
   "cell_type": "code",
   "execution_count": 5,
   "metadata": {},
   "outputs": [],
   "source": [
    "data = read_text(\"../input/language-translatorgerman-to-english/deu.txt\")\n",
    "deu_eng = to_lines(data)\n",
    "deu_eng = array(deu_eng)"
   ]
  },
  {
   "cell_type": "code",
   "execution_count": 6,
   "metadata": {},
   "outputs": [],
   "source": [
    "deu_eng = deu_eng[:30000,:]\n"
   ]
  },
  {
   "cell_type": "code",
   "execution_count": 7,
   "metadata": {},
   "outputs": [],
   "source": [
    "# Remove punctuation\n",
    "deu_eng[:,0] = [s.translate(str.maketrans('', '', string.punctuation)) for s in deu_eng[:,0]]\n",
    "deu_eng[:,1] = [s.translate(str.maketrans('', '', string.punctuation)) for s in deu_eng[:,1]]"
   ]
  },
  {
   "cell_type": "code",
   "execution_count": 8,
   "metadata": {},
   "outputs": [],
   "source": [
    "# convert text to lowercase\n",
    "for i in range(len(deu_eng)):\n",
    "    deu_eng[i,0] = deu_eng[i,0].lower()\n",
    "    deu_eng[i,1] = deu_eng[i,1].lower()"
   ]
  },
  {
   "cell_type": "code",
   "execution_count": 9,
   "metadata": {},
   "outputs": [
    {
     "data": {
      "image/png": "[encoded data removed]",
      "text/plain": [
       "<Figure size 432x288 with 2 Axes>"
      ]
     },
     "metadata": {
      "needs_background": "light"
     },
     "output_type": "display_data"
    }
   ],
   "source": [
    "# empty lists\n",
    "eng_l = []\n",
    "deu_l = []\n",
    "\n",
    "# populate the lists with sentence lengths\n",
    "for i in deu_eng[:,0]:\n",
    "      eng_l.append(len(i.split()))\n",
    "\n",
    "for i in deu_eng[:,1]:\n",
    "      deu_l.append(len(i.split()))\n",
    "\n",
    "length_df = pd.DataFrame({'eng':eng_l, 'deu':deu_l})\n",
    "\n",
    "length_df.hist(bins = 30)\n",
    "plt.show()"
   ]
  },
  {
   "cell_type": "code",
   "execution_count": 10,
   "metadata": {},
   "outputs": [],
   "source": [
    "# function to build a tokenizer\n",
    "def tokenization(lines):\n",
    "    tokenizer = Tokenizer()\n",
    "    tokenizer.fit_on_texts(lines)\n",
    "    return tokenizer"
   ]
  },
  {
   "cell_type": "code",
   "execution_count": 11,
   "metadata": {},
   "outputs": [
    {
     "name": "stdout",
     "output_type": "stream",
     "text": [
      "English Vocabulary Size: 4726\n"
     ]
    }
   ],
   "source": [
    "# prepare english tokenizer\n",
    "eng_tokenizer = tokenization(deu_eng[:, 0])\n",
    "eng_vocab_size = len(eng_tokenizer.word_index) + 1\n",
    "\n",
    "eng_length = 8\n",
    "print('English Vocabulary Size: %d' % eng_vocab_size)"
   ]
  },
  {
   "cell_type": "code",
   "execution_count": 12,
   "metadata": {},
   "outputs": [
    {
     "name": "stdout",
     "output_type": "stream",
     "text": [
      "Deutch Vocabulary Size: 7557\n"
     ]
    }
   ],
   "source": [
    "# prepare Deutch tokenizer\n",
    "deu_tokenizer = tokenization(deu_eng[:, 1])\n",
    "deu_vocab_size = len(deu_tokenizer.word_index) + 1\n",
    "\n",
    "deu_length = 11\n",
    "print('Deutch Vocabulary Size: %d' % deu_vocab_size)"
   ]
  },
  {
   "cell_type": "code",
   "execution_count": 13,
   "metadata": {},
   "outputs": [],
   "source": [
    "# encode and pad sequences\n",
    "def encode_sequences(tokenizer, length, lines):\n",
    "    # integer encode sequences\n",
    "    seq = tokenizer.texts_to_sequences(lines)\n",
    "    # pad sequences with 0 values\n",
    "    seq = pad_sequences(seq, maxlen=length, padding='post')\n",
    "    return seq"
   ]
  },
  {
   "cell_type": "code",
   "execution_count": 14,
   "metadata": {},
   "outputs": [],
   "source": [
    "from sklearn.model_selection import train_test_split\n",
    "\n",
    "# split data into train and test set\n",
    "train, test = train_test_split(deu_eng, test_size=0.2, random_state = 12)"
   ]
  },
  {
   "cell_type": "code",
   "execution_count": 15,
   "metadata": {},
   "outputs": [],
   "source": [
    "# prepare training data\n",
    "trainX = encode_sequences(deu_tokenizer, deu_length, train[:, 1])\n",
    "trainY = encode_sequences(eng_tokenizer, eng_length, train[:, 0])\n",
    "\n",
    "# prepare validation data\n",
    "testX = encode_sequences(deu_tokenizer, deu_length, test[:, 1])\n",
    "testY = encode_sequences(eng_tokenizer, eng_length, test[:, 0])"
   ]
  },
  {
   "cell_type": "code",
   "execution_count": 16,
   "metadata": {},
   "outputs": [
    {
     "data": {
      "text/plain": [
       "(24000, 8)"
      ]
     },
     "execution_count": 16,
     "metadata": {},
     "output_type": "execute_result"
    }
   ],
   "source": [
    "trainY.shape"
   ]
  },
  {
   "cell_type": "code",
   "execution_count": 17,
   "metadata": {},
   "outputs": [],
   "source": [
    "# build NMT model\n",
    "def define_model(in_vocab,out_vocab, in_timesteps,out_timesteps,units):\n",
    "    model = Sequential()\n",
    "    model.add(Embedding(in_vocab, units, input_length=in_timesteps, mask_zero=True))\n",
    "    model.add(LSTM(units))\n",
    "    model.add(RepeatVector(out_timesteps))\n",
    "    model.add(LSTM(units, return_sequences=True))\n",
    "    model.add(Dense(out_vocab, activation='softmax'))\n",
    "    return model"
   ]
  },
  {
   "cell_type": "code",
   "execution_count": 18,
   "metadata": {},
   "outputs": [],
   "source": [
    "# model compilation\n",
    "model = define_model(deu_vocab_size, eng_vocab_size, deu_length, eng_length, 512)"
   ]
  },
  {
   "cell_type": "code",
   "execution_count": 19,
   "metadata": {},
   "outputs": [
    {
     "name": "stdout",
     "output_type": "stream",
     "text": [
      "Model: \"sequential_1\"\n",
      "_________________________________________________________________\n",
      "Layer (type)                 Output Shape              Param #   \n",
      "=================================================================\n",
      "embedding_1 (Embedding)      (None, 11, 512)           3869184   \n",
      "_________________________________________________________________\n",
      "lstm_1 (LSTM)                (None, 512)               2099200   \n",
      "_________________________________________________________________\n",
      "repeat_vector_1 (RepeatVecto (None, 8, 512)            0         \n",
      "_________________________________________________________________\n",
      "lstm_2 (LSTM)                (None, 8, 512)            2099200   \n",
      "_________________________________________________________________\n",
      "dense_1 (Dense)              (None, 8, 4726)           2424438   \n",
      "=================================================================\n",
      "Total params: 10,492,022\n",
      "Trainable params: 10,492,022\n",
      "Non-trainable params: 0\n",
      "_________________________________________________________________\n"
     ]
    }
   ],
   "source": [
    "model.summary()"
   ]
  },
  {
   "cell_type": "code",
   "execution_count": 20,
   "metadata": {},
   "outputs": [
    {
     "name": "stdout",
     "output_type": "stream",
     "text": [
      "English volcaulary size 4726\n",
      "German volcaulary size 7557\n"
     ]
    }
   ],
   "source": [
    "print(\"English volcaulary size\",eng_vocab_size)\n",
    "print(\"German volcaulary size\",deu_vocab_size)"
   ]
  },
  {
   "cell_type": "code",
   "execution_count": 21,
   "metadata": {},
   "outputs": [],
   "source": [
    "rms = optimizers.RMSprop(lr=0.001)\n",
    "model.compile(optimizer=rms, loss='sparse_categorical_crossentropy')"
   ]
  },
  {
   "cell_type": "code",
   "execution_count": 22,
   "metadata": {},
   "outputs": [
    {
     "name": "stderr",
     "output_type": "stream",
     "text": [
      "/opt/conda/lib/python3.6/site-packages/tensorflow_core/python/framework/indexed_slices.py:424: UserWarning: Converting sparse IndexedSlices to a dense Tensor of unknown shape. This may consume a large amount of memory.\n",
      "  \"Converting sparse IndexedSlices to a dense Tensor of unknown shape. \"\n"
     ]
    },
    {
     "name": "stdout",
     "output_type": "stream",
     "text": [
      "Train on 19200 samples, validate on 4800 samples\n",
      "Epoch 1/10\n",
      "19200/19200 [==============================] - 6s 291us/step - loss: 3.4687 - val_loss: 2.7106\n",
      "\n",
      "Epoch 00001: val_loss improved from inf to 2.71064, saving model to model.h1.G2E\n",
      "Epoch 2/10\n",
      "19200/19200 [==============================] - 3s 165us/step - loss: 2.6015 - val_loss: 2.5648\n",
      "\n",
      "Epoch 00002: val_loss improved from 2.71064 to 2.56483, saving model to model.h1.G2E\n",
      "Epoch 3/10\n",
      "19200/19200 [==============================] - 3s 168us/step - loss: 2.4978 - val_loss: 2.5036\n",
      "\n",
      "Epoch 00003: val_loss improved from 2.56483 to 2.50356, saving model to model.h1.G2E\n",
      "Epoch 4/10\n",
      "19200/19200 [==============================] - 3s 167us/step - loss: 2.3906 - val_loss: 2.3950\n",
      "\n",
      "Epoch 00004: val_loss improved from 2.50356 to 2.39497, saving model to model.h1.G2E\n",
      "Epoch 5/10\n",
      "19200/19200 [==============================] - 3s 171us/step - loss: 2.2677 - val_loss: 2.2910\n",
      "\n",
      "Epoch 00005: val_loss improved from 2.39497 to 2.29101, saving model to model.h1.G2E\n",
      "Epoch 6/10\n",
      "19200/19200 [==============================] - 3s 162us/step - loss: 2.1543 - val_loss: 2.2229\n",
      "\n",
      "Epoch 00006: val_loss improved from 2.29101 to 2.22293, saving model to model.h1.G2E\n",
      "Epoch 7/10\n",
      "19200/19200 [==============================] - 3s 169us/step - loss: 2.0482 - val_loss: 2.1678\n",
      "\n",
      "Epoch 00007: val_loss improved from 2.22293 to 2.16781, saving model to model.h1.G2E\n",
      "Epoch 8/10\n",
      "19200/19200 [==============================] - 3s 160us/step - loss: 1.9518 - val_loss: 2.0737\n",
      "\n",
      "Epoch 00008: val_loss improved from 2.16781 to 2.07369, saving model to model.h1.G2E\n",
      "Epoch 9/10\n",
      "19200/19200 [==============================] - 3s 173us/step - loss: 1.8530 - val_loss: 2.0086\n",
      "\n",
      "Epoch 00009: val_loss improved from 2.07369 to 2.00859, saving model to model.h1.G2E\n",
      "Epoch 10/10\n",
      "19200/19200 [==============================] - 3s 172us/step - loss: 1.7664 - val_loss: 1.9630\n",
      "\n",
      "Epoch 00010: val_loss improved from 2.00859 to 1.96304, saving model to model.h1.G2E\n"
     ]
    }
   ],
   "source": [
    "filename = 'model.h1.G2E'\n",
    "checkpoint = ModelCheckpoint(filename, monitor='val_loss', verbose=1, save_best_only=True, mode='min')\n",
    "\n",
    "# train model\n",
    "history = model.fit(trainX, trainY.reshape(trainY.shape[0], trainY.shape[1], 1),\n",
    "                    epochs=10, batch_size=512, validation_split = 0.2,callbacks=[checkpoint], \n",
    "                    verbose=1)"
   ]
  },
  {
   "cell_type": "code",
   "execution_count": 23,
   "metadata": {},
   "outputs": [
    {
     "data": {
      "image/png": "[encoded data removed]",
      "text/plain": [
       "<Figure size 432x288 with 1 Axes>"
      ]
     },
     "metadata": {
      "needs_background": "light"
     },
     "output_type": "display_data"
    }
   ],
   "source": [
    "plt.plot(history.history['loss'])\n",
    "plt.plot(history.history['val_loss'])\n",
    "plt.legend(['train','validation'])\n",
    "plt.show()"
   ]
  },
  {
   "cell_type": "code",
   "execution_count": 24,
   "metadata": {},
   "outputs": [
    {
     "name": "stderr",
     "output_type": "stream",
     "text": [
      "/opt/conda/lib/python3.6/site-packages/tensorflow_core/python/framework/indexed_slices.py:424: UserWarning: Converting sparse IndexedSlices to a dense Tensor of unknown shape. This may consume a large amount of memory.\n",
      "  \"Converting sparse IndexedSlices to a dense Tensor of unknown shape. \"\n"
     ]
    }
   ],
   "source": [
    "model = load_model('model.h1.G2E')\n",
    "preds = model.predict_classes(testX.reshape((testX.shape[0],testX.shape[1])))"
   ]
  },
  {
   "cell_type": "code",
   "execution_count": 25,
   "metadata": {},
   "outputs": [],
   "source": [
    "# Saving the Tokenizer model in Pickle files\n",
    "gmfile = open('German', 'ab')\n",
    "engfile= open(\"English\",'ab')\n",
    "# source, destination \n",
    "pickle.dump(deu_tokenizer, gmfile)                      \n",
    "gmfile.close()\n",
    "eng_tokenizer\n",
    "pickle.dump(eng_tokenizer, engfile)                      \n",
    "engfile.close()"
   ]
  },
  {
   "cell_type": "code",
   "execution_count": 26,
   "metadata": {},
   "outputs": [
    {
     "data": {
      "text/plain": [
       "'def get_word(n, tokenizer):\\n    for word, index in tokenizer.word_index.items():\\n        if index == n:\\n            return word\\n    return None'"
      ]
     },
     "execution_count": 26,
     "metadata": {},
     "output_type": "execute_result"
    }
   ],
   "source": [
    "\"\"\"def get_word(n, tokenizer):\n",
    "    for word, index in tokenizer.word_index.items():\n",
    "        if index == n:\n",
    "            return word\n",
    "    return None\"\"\""
   ]
  },
  {
   "cell_type": "code",
   "execution_count": 27,
   "metadata": {},
   "outputs": [
    {
     "data": {
      "text/plain": [
       "(6000, 8)"
      ]
     },
     "execution_count": 27,
     "metadata": {},
     "output_type": "execute_result"
    }
   ],
   "source": [
    "preds.shape"
   ]
  },
  {
   "cell_type": "code",
   "execution_count": 28,
   "metadata": {},
   "outputs": [],
   "source": [
    "# Function to get word for the model's output numbers\n",
    "def get_word(n, tokenizer):\n",
    "    for word, index in tokenizer.word_index.items():\n",
    "        if index == n:\n",
    "            return word\n",
    "    return None\n",
    "\n",
    "# Loop for the final dataset presentation.\n",
    "preds_text = []\n",
    "for i in preds:\n",
    "    temp = []\n",
    "    for j in range(len(i)):\n",
    "        t = get_word(i[j], eng_tokenizer)\n",
    "        if j > 0:\n",
    "            if (t == get_word(i[j-1], eng_tokenizer)) or (t == None):\n",
    "                temp.append('')\n",
    "            else:\n",
    "                temp.append(t)\n",
    "        else:\n",
    "            if(t == None):\n",
    "                temp.append('')\n",
    "            else:\n",
    "                temp.append(t) \n",
    "    preds_text.append(' '.join(temp))\n"
   ]
  },
  {
   "cell_type": "code",
   "execution_count": 29,
   "metadata": {},
   "outputs": [],
   "source": [
    "pred_df = pd.DataFrame({'actual' : test[:,1], 'predicted' : preds_text})"
   ]
  },
  {
   "cell_type": "code",
   "execution_count": 30,
   "metadata": {},
   "outputs": [
    {
     "data": {
      "text/html": [
       "<div>\n",
       "<style scoped>\n",
       "    .dataframe tbody tr th:only-of-type {\n",
       "        vertical-align: middle;\n",
       "    }\n",
       "\n",
       "    .dataframe tbody tr th {\n",
       "        vertical-align: top;\n",
       "    }\n",
       "\n",
       "    .dataframe thead th {\n",
       "        text-align: right;\n",
       "    }\n",
       "</style>\n",
       "<table border=\"1\" class=\"dataframe\">\n",
       "  <thead>\n",
       "    <tr style=\"text-align: right;\">\n",
       "      <th></th>\n",
       "      <th>actual</th>\n",
       "      <th>predicted</th>\n",
       "    </tr>\n",
       "  </thead>\n",
       "  <tbody>\n",
       "    <tr>\n",
       "      <th>0</th>\n",
       "      <td>ich bin zu allem bereit</td>\n",
       "      <td>im not a</td>\n",
       "    </tr>\n",
       "    <tr>\n",
       "      <th>1</th>\n",
       "      <td>ich habe einen brief geschrieben</td>\n",
       "      <td>i have a</td>\n",
       "    </tr>\n",
       "    <tr>\n",
       "      <th>2</th>\n",
       "      <td>ich bin ingenieur</td>\n",
       "      <td>im not a</td>\n",
       "    </tr>\n",
       "    <tr>\n",
       "      <th>3</th>\n",
       "      <td>versuchen sie nicht zu fallen</td>\n",
       "      <td>dont it</td>\n",
       "    </tr>\n",
       "    <tr>\n",
       "      <th>4</th>\n",
       "      <td>sie sind piloten</td>\n",
       "      <td>youre not</td>\n",
       "    </tr>\n",
       "    <tr>\n",
       "      <th>5</th>\n",
       "      <td>tom rasierte sich</td>\n",
       "      <td>tom felt</td>\n",
       "    </tr>\n",
       "    <tr>\n",
       "      <th>6</th>\n",
       "      <td>mein pferd ist weiß</td>\n",
       "      <td>my is</td>\n",
       "    </tr>\n",
       "    <tr>\n",
       "      <th>7</th>\n",
       "      <td>tom ist sehr bescheiden</td>\n",
       "      <td>tom is a</td>\n",
       "    </tr>\n",
       "    <tr>\n",
       "      <th>8</th>\n",
       "      <td>ich werde dir nicht helfen</td>\n",
       "      <td>i cant tom</td>\n",
       "    </tr>\n",
       "    <tr>\n",
       "      <th>9</th>\n",
       "      <td>das tut es</td>\n",
       "      <td>it</td>\n",
       "    </tr>\n",
       "  </tbody>\n",
       "</table>\n",
       "</div>"
      ],
      "text/plain": [
       "                             actual        predicted\n",
       "0           ich bin zu allem bereit    im not a     \n",
       "1  ich habe einen brief geschrieben    i have a     \n",
       "2                 ich bin ingenieur    im not a     \n",
       "3     versuchen sie nicht zu fallen    dont it      \n",
       "4                  sie sind piloten  youre not      \n",
       "5                 tom rasierte sich   tom felt      \n",
       "6               mein pferd ist weiß      my is      \n",
       "7           tom ist sehr bescheiden    tom is a     \n",
       "8        ich werde dir nicht helfen  i cant tom     \n",
       "9                        das tut es        it       "
      ]
     },
     "execution_count": 30,
     "metadata": {},
     "output_type": "execute_result"
    }
   ],
   "source": [
    "pred_df.head(10)"
   ]
  },
  {
   "cell_type": "markdown",
   "metadata": {},
   "source": [
    "* English to German Conversion"
   ]
  },
  {
   "cell_type": "code",
   "execution_count": 31,
   "metadata": {},
   "outputs": [
    {
     "name": "stdout",
     "output_type": "stream",
     "text": [
      "English Vocabulary Size: 4726\n",
      "Deutch Vocabulary Size: 7557\n"
     ]
    }
   ],
   "source": [
    "# prepare english tokenizer\n",
    "eng1_tokenizer1 = tokenization(deu_eng[:, 0])\n",
    "eng1_vocab_size1 = len(eng1_tokenizer1.word_index) + 1\n",
    "\n",
    "eng1_length = 8\n",
    "print('English Vocabulary Size: %d' % eng_vocab_size)\n",
    "\n",
    "# prepare Deutch tokenizer\n",
    "deu1_tokenizer1 = tokenization(deu_eng[:, 1])\n",
    "deu_vocab_size1 = len(deu1_tokenizer1.word_index) + 1\n",
    "\n",
    "deu_length = 11\n",
    "print('Deutch Vocabulary Size: %d' % deu_vocab_size)\n",
    "\n",
    "from sklearn.model_selection import train_test_split\n",
    "\n",
    "# split data into train and test set\n",
    "train, test = train_test_split(deu_eng, test_size=0.2, random_state = 12)\n",
    "\n",
    "# prepare training data\n",
    "trainX1 = encode_sequences(eng1_tokenizer1, eng_length, train[:, 0])\n",
    "trainY1 = encode_sequences(deu1_tokenizer1, deu_length, train[:, 1])\n",
    "\n",
    "# prepare validation data\n",
    "testX1 = encode_sequences(eng1_tokenizer1, eng_length, test[:, 0])\n",
    "testY1 = encode_sequences(deu1_tokenizer1, deu_length, test[:, 1])\n",
    "\n"
   ]
  },
  {
   "cell_type": "code",
   "execution_count": 32,
   "metadata": {},
   "outputs": [
    {
     "data": {
      "text/plain": [
       "(24000, 8)"
      ]
     },
     "execution_count": 32,
     "metadata": {},
     "output_type": "execute_result"
    }
   ],
   "source": [
    "trainX1.shape"
   ]
  },
  {
   "cell_type": "code",
   "execution_count": 33,
   "metadata": {},
   "outputs": [
    {
     "data": {
      "text/plain": [
       "(24000, 11)"
      ]
     },
     "execution_count": 33,
     "metadata": {},
     "output_type": "execute_result"
    }
   ],
   "source": [
    "trainY1.shape"
   ]
  },
  {
   "cell_type": "code",
   "execution_count": 34,
   "metadata": {},
   "outputs": [
    {
     "name": "stderr",
     "output_type": "stream",
     "text": [
      "/opt/conda/lib/python3.6/site-packages/tensorflow_core/python/framework/indexed_slices.py:424: UserWarning: Converting sparse IndexedSlices to a dense Tensor of unknown shape. This may consume a large amount of memory.\n",
      "  \"Converting sparse IndexedSlices to a dense Tensor of unknown shape. \"\n"
     ]
    },
    {
     "name": "stdout",
     "output_type": "stream",
     "text": [
      "Train on 19200 samples, validate on 4800 samples\n",
      "Epoch 1/10\n",
      "19200/19200 [==============================] - 5s 278us/step - loss: 3.1229 - val_loss: 2.2645\n",
      "\n",
      "Epoch 00001: val_loss improved from inf to 2.26452, saving model to model.h1.E2G\n",
      "Epoch 2/10\n",
      "19200/19200 [==============================] - 4s 209us/step - loss: 2.2009 - val_loss: 2.2575\n",
      "\n",
      "Epoch 00002: val_loss improved from 2.26452 to 2.25747, saving model to model.h1.E2G\n",
      "Epoch 3/10\n",
      "19200/19200 [==============================] - 4s 215us/step - loss: 2.1020 - val_loss: 2.1234\n",
      "\n",
      "Epoch 00003: val_loss improved from 2.25747 to 2.12344, saving model to model.h1.E2G\n",
      "Epoch 4/10\n",
      "19200/19200 [==============================] - 4s 215us/step - loss: 1.9926 - val_loss: 2.0698\n",
      "\n",
      "Epoch 00004: val_loss improved from 2.12344 to 2.06983, saving model to model.h1.E2G\n",
      "Epoch 5/10\n",
      "19200/19200 [==============================] - 4s 215us/step - loss: 1.8972 - val_loss: 2.0188\n",
      "\n",
      "Epoch 00005: val_loss improved from 2.06983 to 2.01884, saving model to model.h1.E2G\n",
      "Epoch 6/10\n",
      "19200/19200 [==============================] - 4s 209us/step - loss: 1.8270 - val_loss: 1.9444\n",
      "\n",
      "Epoch 00006: val_loss improved from 2.01884 to 1.94444, saving model to model.h1.E2G\n",
      "Epoch 7/10\n",
      "19200/19200 [==============================] - 4s 215us/step - loss: 1.7690 - val_loss: 1.8820\n",
      "\n",
      "Epoch 00007: val_loss improved from 1.94444 to 1.88204, saving model to model.h1.E2G\n",
      "Epoch 8/10\n",
      "19200/19200 [==============================] - 4s 210us/step - loss: 1.7078 - val_loss: 1.8243\n",
      "\n",
      "Epoch 00008: val_loss improved from 1.88204 to 1.82433, saving model to model.h1.E2G\n",
      "Epoch 9/10\n",
      "19200/19200 [==============================] - 4s 214us/step - loss: 1.6528 - val_loss: 1.8075\n",
      "\n",
      "Epoch 00009: val_loss improved from 1.82433 to 1.80753, saving model to model.h1.E2G\n",
      "Epoch 10/10\n",
      "19200/19200 [==============================] - 4s 213us/step - loss: 1.6017 - val_loss: 1.7574\n",
      "\n",
      "Epoch 00010: val_loss improved from 1.80753 to 1.75742, saving model to model.h1.E2G\n"
     ]
    }
   ],
   "source": [
    "# build NMT model\n",
    "def define_model1(in_vocab,out_vocab, in_timesteps,out_timesteps,units):\n",
    "    model = Sequential()\n",
    "    model.add(Embedding(in_vocab, units, input_length=in_timesteps, mask_zero=True))\n",
    "    model.add(LSTM(units))\n",
    "    model.add(RepeatVector(out_timesteps))\n",
    "    model.add(LSTM(units, return_sequences=True))\n",
    "    model.add(Dense(out_vocab, activation='softmax'))\n",
    "    return model\n",
    "\n",
    "# model compilation\n",
    "model_2 = define_model1(eng_vocab_size, deu_vocab_size, eng_length, deu_length, 512)\n",
    "\n",
    "rms = optimizers.RMSprop(lr=0.001)\n",
    "model_2.compile(optimizer=rms, loss='sparse_categorical_crossentropy')\n",
    "\n",
    "filename = 'model.h1.E2G'\n",
    "checkpoint = ModelCheckpoint(filename, monitor='val_loss', verbose=1, save_best_only=True, mode='min')\n",
    "\n",
    "# train model\n",
    "history1 = model_2.fit(trainX1, trainY1.reshape(trainY1.shape[0], trainY1.shape[1], 1),\n",
    "                    epochs=10, batch_size=512, validation_split = 0.2,callbacks=[checkpoint], \n",
    "                    verbose=1)"
   ]
  },
  {
   "cell_type": "code",
   "execution_count": 35,
   "metadata": {},
   "outputs": [
    {
     "data": {
      "image/png": "[encoded data removed]",
      "text/plain": [
       "<Figure size 432x288 with 1 Axes>"
      ]
     },
     "metadata": {
      "needs_background": "light"
     },
     "output_type": "display_data"
    }
   ],
   "source": [
    "plt.plot(history1.history['loss'])\n",
    "plt.plot(history1.history['val_loss'])\n",
    "plt.legend(['train','validation'])\n",
    "plt.show()"
   ]
  },
  {
   "cell_type": "code",
   "execution_count": 36,
   "metadata": {},
   "outputs": [
    {
     "data": {
      "text/plain": [
       "(6000, 8)"
      ]
     },
     "execution_count": 36,
     "metadata": {},
     "output_type": "execute_result"
    }
   ],
   "source": [
    "testX1.shape"
   ]
  },
  {
   "cell_type": "code",
   "execution_count": 37,
   "metadata": {},
   "outputs": [
    {
     "name": "stderr",
     "output_type": "stream",
     "text": [
      "/opt/conda/lib/python3.6/site-packages/tensorflow_core/python/framework/indexed_slices.py:424: UserWarning: Converting sparse IndexedSlices to a dense Tensor of unknown shape. This may consume a large amount of memory.\n",
      "  \"Converting sparse IndexedSlices to a dense Tensor of unknown shape. \"\n"
     ]
    }
   ],
   "source": [
    "model1 = load_model('model.h1.E2G')\n",
    "preds1 = model1.predict_classes(testX1.reshape((testX1.shape[0],testX1.shape[1])))"
   ]
  },
  {
   "cell_type": "code",
   "execution_count": 38,
   "metadata": {},
   "outputs": [],
   "source": [
    "def get_word(n, tokenizer):\n",
    "    for word, index in tokenizer.word_index.items():\n",
    "        if index == n:\n",
    "            return word\n",
    "    return None\n",
    "\n",
    "\n",
    "preds_text1 = []\n",
    "for i in preds1:\n",
    "    temp1 = []\n",
    "    for j in range(len(i)):\n",
    "        t = get_word(i[j], eng1_tokenizer1)\n",
    "        if j > 0:\n",
    "            if (t == get_word(i[j-1], eng1_tokenizer1)) or (t == None):\n",
    "                temp1.append('')\n",
    "            else:\n",
    "                temp1.append(t)\n",
    "        else:\n",
    "            if(t == None):\n",
    "                temp1.append('')\n",
    "            else:\n",
    "                temp1.append(t) \n",
    "    preds_text1.append(' '.join(temp1))"
   ]
  },
  {
   "cell_type": "code",
   "execution_count": 39,
   "metadata": {},
   "outputs": [],
   "source": [
    "pred_df = pd.DataFrame({'actual' : test[:,1], 'predicted' : preds_text})"
   ]
  },
  {
   "cell_type": "code",
   "execution_count": 40,
   "metadata": {},
   "outputs": [
    {
     "data": {
      "text/html": [
       "<div>\n",
       "<style scoped>\n",
       "    .dataframe tbody tr th:only-of-type {\n",
       "        vertical-align: middle;\n",
       "    }\n",
       "\n",
       "    .dataframe tbody tr th {\n",
       "        vertical-align: top;\n",
       "    }\n",
       "\n",
       "    .dataframe thead th {\n",
       "        text-align: right;\n",
       "    }\n",
       "</style>\n",
       "<table border=\"1\" class=\"dataframe\">\n",
       "  <thead>\n",
       "    <tr style=\"text-align: right;\">\n",
       "      <th></th>\n",
       "      <th>actual</th>\n",
       "      <th>predicted</th>\n",
       "    </tr>\n",
       "  </thead>\n",
       "  <tbody>\n",
       "    <tr>\n",
       "      <th>0</th>\n",
       "      <td>ich bin zu allem bereit</td>\n",
       "      <td>im not a</td>\n",
       "    </tr>\n",
       "    <tr>\n",
       "      <th>1</th>\n",
       "      <td>ich habe einen brief geschrieben</td>\n",
       "      <td>i have a</td>\n",
       "    </tr>\n",
       "    <tr>\n",
       "      <th>2</th>\n",
       "      <td>ich bin ingenieur</td>\n",
       "      <td>im not a</td>\n",
       "    </tr>\n",
       "    <tr>\n",
       "      <th>3</th>\n",
       "      <td>versuchen sie nicht zu fallen</td>\n",
       "      <td>dont it</td>\n",
       "    </tr>\n",
       "    <tr>\n",
       "      <th>4</th>\n",
       "      <td>sie sind piloten</td>\n",
       "      <td>youre not</td>\n",
       "    </tr>\n",
       "  </tbody>\n",
       "</table>\n",
       "</div>"
      ],
      "text/plain": [
       "                             actual        predicted\n",
       "0           ich bin zu allem bereit    im not a     \n",
       "1  ich habe einen brief geschrieben    i have a     \n",
       "2                 ich bin ingenieur    im not a     \n",
       "3     versuchen sie nicht zu fallen    dont it      \n",
       "4                  sie sind piloten  youre not      "
      ]
     },
     "execution_count": 40,
     "metadata": {},
     "output_type": "execute_result"
    }
   ],
   "source": [
    "pred_df.head()"
   ]
  },
  {
   "cell_type": "code",
   "execution_count": null,
   "metadata": {},
   "outputs": [],
   "source": []
  },
  {
   "cell_type": "code",
   "execution_count": null,
   "metadata": {},
   "outputs": [],
   "source": []
  }
 ],
 "metadata": {
  "kernelspec": {
   "display_name": "Python 3",
   "language": "python",
   "name": "python3"
  },
  "language_info": {
   "codemirror_mode": {
    "name": "ipython",
    "version": 3
   },
   "file_extension": ".py",
   "mimetype": "text/x-python",
   "name": "python",
   "nbconvert_exporter": "python",
   "pygments_lexer": "ipython3",
   "version": "3.6.6"
  }
 },
 "nbformat": 4,
 "nbformat_minor": 1
}
